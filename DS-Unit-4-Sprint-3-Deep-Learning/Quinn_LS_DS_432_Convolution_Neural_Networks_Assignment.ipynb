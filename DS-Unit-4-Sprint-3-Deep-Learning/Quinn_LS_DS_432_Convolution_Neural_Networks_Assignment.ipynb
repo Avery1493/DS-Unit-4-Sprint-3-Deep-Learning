{
  "nbformat": 4,
  "nbformat_minor": 0,
  "metadata": {
    "kernelspec": {
      "display_name": "U4-S2-NNF-DS10",
      "language": "python",
      "name": "u4-s2-nnf-ds10"
    },
    "language_info": {
      "codemirror_mode": {
        "name": "ipython",
        "version": 3
      },
      "file_extension": ".py",
      "mimetype": "text/x-python",
      "name": "python",
      "nbconvert_exporter": "python",
      "pygments_lexer": "ipython3",
      "version": "3.7.6"
    },
    "colab": {
      "name": "Quinn_LS_DS_432_Convolution_Neural_Networks_Assignment.ipynb",
      "provenance": [],
      "include_colab_link": true
    },
    "accelerator": "GPU"
  },
  "cells": [
    {
      "cell_type": "markdown",
      "metadata": {
        "id": "view-in-github",
        "colab_type": "text"
      },
      "source": [
        "<a href=\"https://colab.research.google.com/github/Avery1493/DS-Unit-4-Sprint-3-Deep-Learning/blob/master/DS-Unit-4-Sprint-3-Deep-Learning/Quinn_LS_DS_432_Convolution_Neural_Networks_Assignment.ipynb\" target=\"_parent\"><img src=\"https://colab.research.google.com/assets/colab-badge.svg\" alt=\"Open In Colab\"/></a>"
      ]
    },
    {
      "cell_type": "markdown",
      "metadata": {
        "id": "wlZcenpAScO0",
        "colab_type": "text"
      },
      "source": [
        "<img align=\"left\" src=\"https://lever-client-logos.s3.amazonaws.com/864372b1-534c-480e-acd5-9711f850815c-1524247202159.png\" width=200>\n",
        "<br></br>\n",
        "<br></br>\n",
        "\n",
        "## *Data Science Unit 4 Sprint 3 Assignment 2*\n",
        "# Convolutional Neural Networks (CNNs)"
      ]
    },
    {
      "cell_type": "markdown",
      "metadata": {
        "colab_type": "text",
        "id": "0lfZdD_cp1t5"
      },
      "source": [
        "# Assignment\n",
        "\n",
        "- <a href=\"#p1\">Part 1:</a> Pre-Trained Model\n",
        "- <a href=\"#p2\">Part 2:</a> Custom CNN Model\n",
        "- <a href=\"#p3\">Part 3:</a> CNN with Data Augmentation\n",
        "\n",
        "\n",
        "You will apply three different CNN models to a binary image classification model using Keras. Classify images of Mountains (`./data/train/mountain/*`) and images of forests (`./data/train/forest/*`). Treat mountains as the positive class (1) and the forest images as the negative (zero). \n",
        "\n",
        "|Mountain (+)|Forest (-)|\n",
        "|---|---|\n",
        "|![](./data/train/mountain/art1131.jpg)|![](./data/validation/forest/cdmc317.jpg)|\n",
        "\n",
        "The problem is relatively difficult given that the sample is tiny: there are about 350 observations per class. This sample size might be something that you can expect with prototyping an image classification problem/solution at work. Get accustomed to evaluating several different possible models."
      ]
    },
    {
      "cell_type": "markdown",
      "metadata": {
        "colab_type": "text",
        "id": "Z8KbiuBuScPB"
      },
      "source": [
        "# Pre - Trained Model\n",
        "<a id=\"p1\"></a>\n",
        "\n",
        "Load a pretrained network from Keras, [ResNet50](https://tfhub.dev/google/imagenet/resnet_v1_50/classification/1) - a 50 layer deep network trained to recognize [1000 objects](https://storage.googleapis.com/download.tensorflow.org/data/ImageNetLabels.txt). Starting usage:\n",
        "\n",
        "```python\n",
        "import numpy as np\n",
        "\n",
        "from tensorflow.keras.applications.resnet50 import ResNet50\n",
        "from tensorflow.keras.preprocessing import image\n",
        "from tensorflow.keras.applications.resnet50 import preprocess_input, decode_predictions\n",
        "\n",
        "from tensorflow.keras.layers import Dense, GlobalAveragePooling2D\n",
        "from tensorflow.keras.models import Model # This is the functional API\n",
        "\n",
        "resnet = ResNet50(weights='imagenet', include_top=False)\n",
        "\n",
        "```\n",
        "\n",
        "The `include_top` parameter in `ResNet50` will remove the full connected layers from the ResNet model. The next step is to turn off the training of the ResNet layers. We want to use the learned parameters without updating them in future training passes. \n",
        "\n",
        "```python\n",
        "for layer in resnet.layers:\n",
        "    layer.trainable = False\n",
        "```\n",
        "\n",
        "Using the Keras functional API, we will need to additional additional full connected layers to our model. We we removed the top layers, we removed all preivous fully connected layers. In other words, we kept only the feature processing portions of our network. You can expert with additional layers beyond what's listed here. The `GlobalAveragePooling2D` layer functions as a really fancy flatten function by taking the average of each of the last convolutional layer outputs (which is two dimensional still). \n",
        "\n",
        "```python\n",
        "x = resnet.output\n",
        "x = GlobalAveragePooling2D()(x) # This layer is a really fancy flatten\n",
        "x = Dense(1024, activation='relu')(x)\n",
        "predictions = Dense(1, activation='sigmoid')(x)\n",
        "model = Model(resnet.input, predictions)\n",
        "```\n",
        "\n",
        "Your assignment is to apply the transfer learning above to classify images of Mountains (`./data/train/mountain/*`) and images of forests (`./data/train/forest/*`). Treat mountains as the positive class (1) and the forest images as the negative (zero). \n",
        "\n",
        "Steps to complete assignment: \n",
        "1. Load in Image Data into numpy arrays (`X`) \n",
        "2. Create a `y` for the labels\n",
        "3. Train your model with pre-trained layers from resnet\n",
        "4. Report your model's accuracy"
      ]
    },
    {
      "cell_type": "markdown",
      "metadata": {
        "id": "iCx19ddhScPF",
        "colab_type": "text"
      },
      "source": [
        "## Load in Data\n",
        "\n",
        "This surprisingly more difficult than it seems, because you are working with directories of images instead of a single file. This boiler plate will help you download a zipped version of the directory of images. The directory is organized into \"train\" and \"validation\" which you can use inside an `ImageGenerator` class to stream batches of images thru your model.  \n"
      ]
    },
    {
      "cell_type": "markdown",
      "metadata": {
        "id": "A8f4K85zScPJ",
        "colab_type": "text"
      },
      "source": [
        "### Download & Summarize the Data\n",
        "\n",
        "This step is completed for you. Just run the cells and review the results. "
      ]
    },
    {
      "cell_type": "code",
      "metadata": {
        "id": "It09oVC7ScPO",
        "colab_type": "code",
        "colab": {}
      },
      "source": [
        "import tensorflow as tf\n",
        "import os\n",
        "\n",
        "_URL = 'https://github.com/LambdaSchool/DS-Unit-4-Sprint-3-Deep-Learning/blob/master/module2-convolutional-neural-networks/data.zip?raw=true'\n",
        "\n",
        "path_to_zip = tf.keras.utils.get_file('./data.zip', origin=_URL, extract=True)\n",
        "PATH = os.path.join(os.path.dirname(path_to_zip), 'data')"
      ],
      "execution_count": 0,
      "outputs": []
    },
    {
      "cell_type": "code",
      "metadata": {
        "id": "jS3RC8fcScPi",
        "colab_type": "code",
        "colab": {}
      },
      "source": [
        "train_dir = os.path.join(PATH, 'train')\n",
        "validation_dir = os.path.join(PATH, 'validation')"
      ],
      "execution_count": 0,
      "outputs": []
    },
    {
      "cell_type": "code",
      "metadata": {
        "id": "wnSJ2pV5ScPr",
        "colab_type": "code",
        "colab": {}
      },
      "source": [
        "train_mountain_dir = os.path.join(train_dir, 'mountain')  # directory with our training cat pictures\n",
        "train_forest_dir = os.path.join(train_dir, 'forest')  # directory with our training dog pictures\n",
        "validation_mountain_dir = os.path.join(validation_dir, 'mountain')  # directory with our validation cat pictures\n",
        "validation_forest_dir = os.path.join(validation_dir, 'forest')  # directory with our validation dog pictures"
      ],
      "execution_count": 0,
      "outputs": []
    },
    {
      "cell_type": "code",
      "metadata": {
        "id": "puaKPv9IScP1",
        "colab_type": "code",
        "colab": {}
      },
      "source": [
        "num_mountain_tr = len(os.listdir(train_mountain_dir))\n",
        "num_forest_tr = len(os.listdir(train_forest_dir))\n",
        "\n",
        "num_mountain_val = len(os.listdir(validation_mountain_dir))\n",
        "num_forest_val = len(os.listdir(validation_forest_dir))\n",
        "\n",
        "total_train = num_mountain_tr + num_forest_tr\n",
        "total_val = num_mountain_val + num_forest_val"
      ],
      "execution_count": 0,
      "outputs": []
    },
    {
      "cell_type": "code",
      "metadata": {
        "id": "zbk4j2OPScQC",
        "colab_type": "code",
        "colab": {
          "base_uri": "https://localhost:8080/",
          "height": 136
        },
        "outputId": "9832b4aa-36da-47f2-f669-249c41f34e16"
      },
      "source": [
        "print('total training mountain images:', num_mountain_tr)\n",
        "print('total training forest images:', num_forest_tr)\n",
        "\n",
        "print('total validation mountain images:', num_mountain_val)\n",
        "print('total validation forest images:', num_forest_val)\n",
        "print(\"--\")\n",
        "print(\"Total training images:\", total_train)\n",
        "print(\"Total validation images:\", total_val)"
      ],
      "execution_count": 40,
      "outputs": [
        {
          "output_type": "stream",
          "text": [
            "total training mountain images: 254\n",
            "total training forest images: 270\n",
            "total validation mountain images: 125\n",
            "total validation forest images: 62\n",
            "--\n",
            "Total training images: 524\n",
            "Total validation images: 187\n"
          ],
          "name": "stdout"
        }
      ]
    },
    {
      "cell_type": "markdown",
      "metadata": {
        "id": "fzVCwZlMScQW",
        "colab_type": "text"
      },
      "source": [
        "### Keras `ImageGenerator` to Process the Data\n",
        "\n",
        "This step is completed for you, but please review the code. The `ImageGenerator` class reads in batches of data from a directory and pass them to the model one batch at a time. Just like large text files, this method is advantageous, because it stifles the need to load a bunch of images into memory. \n",
        "\n",
        "Check out the documentation for this class method: [Keras `ImageGenerator` Class](https://keras.io/preprocessing/image/#imagedatagenerator-class). You'll expand it's use in the third assignment objective."
      ]
    },
    {
      "cell_type": "code",
      "metadata": {
        "id": "n3k-FIuGScQZ",
        "colab_type": "code",
        "colab": {}
      },
      "source": [
        "batch_size = 16\n",
        "epochs = 50\n",
        "IMG_HEIGHT = 224\n",
        "IMG_WIDTH = 224\n",
        "CHNLS = 3"
      ],
      "execution_count": 0,
      "outputs": []
    },
    {
      "cell_type": "code",
      "metadata": {
        "id": "ASRo1PIIScQo",
        "colab_type": "code",
        "colab": {}
      },
      "source": [
        "from tensorflow.keras.preprocessing.image import ImageDataGenerator\n",
        "\n",
        "train_image_generator = ImageDataGenerator(rescale=1./255) # Generator for our training data\n",
        "validation_image_generator = ImageDataGenerator(rescale=1./255) # Generator for our validation data"
      ],
      "execution_count": 0,
      "outputs": []
    },
    {
      "cell_type": "code",
      "metadata": {
        "id": "ReK_YXKbScQz",
        "colab_type": "code",
        "colab": {
          "base_uri": "https://localhost:8080/",
          "height": 34
        },
        "outputId": "d268f900-ddbc-4d1e-f7d4-4877f8e3cc3f"
      },
      "source": [
        "train_data_gen = train_image_generator.flow_from_directory(batch_size=batch_size,\n",
        "                                                           directory=train_dir,\n",
        "                                                           shuffle=True,\n",
        "                                                           target_size=(IMG_HEIGHT, IMG_WIDTH),\n",
        "                                                           class_mode='binary')"
      ],
      "execution_count": 43,
      "outputs": [
        {
          "output_type": "stream",
          "text": [
            "Found 533 images belonging to 2 classes.\n"
          ],
          "name": "stdout"
        }
      ]
    },
    {
      "cell_type": "code",
      "metadata": {
        "id": "QdJn1Be7ScQ7",
        "colab_type": "code",
        "colab": {
          "base_uri": "https://localhost:8080/",
          "height": 34
        },
        "outputId": "2686766c-55a1-42a0-a13c-77d527621792"
      },
      "source": [
        "val_data_gen = validation_image_generator.flow_from_directory(batch_size=batch_size,\n",
        "                                                              directory=validation_dir,\n",
        "                                                              target_size=(IMG_HEIGHT, IMG_WIDTH),\n",
        "                                                              class_mode='binary')"
      ],
      "execution_count": 44,
      "outputs": [
        {
          "output_type": "stream",
          "text": [
            "Found 195 images belonging to 2 classes.\n"
          ],
          "name": "stdout"
        }
      ]
    },
    {
      "cell_type": "markdown",
      "metadata": {
        "id": "k7H-mbMNScRH",
        "colab_type": "text"
      },
      "source": [
        "## Instatiate Model"
      ]
    },
    {
      "cell_type": "code",
      "metadata": {
        "id": "gx2gahWCScRI",
        "colab_type": "code",
        "colab": {}
      },
      "source": [
        "import numpy as np\n",
        " \n",
        "from tensorflow.keras.applications.resnet50 import ResNet50\n",
        "from tensorflow.keras.preprocessing import image\n",
        "from tensorflow.keras.applications.resnet50 import preprocess_input, decode_predictions\n",
        " \n",
        "from tensorflow.keras.layers import Dense, GlobalAveragePooling2D\n",
        "from tensorflow.keras.models import Model # This is the functional API\n",
        " \n",
        "resnet = ResNet50(weights='imagenet', include_top=False)"
      ],
      "execution_count": 0,
      "outputs": []
    },
    {
      "cell_type": "code",
      "metadata": {
        "id": "JcEY5orgWGZ9",
        "colab_type": "code",
        "colab": {}
      },
      "source": [
        "for layer in resnet.layers:\n",
        "    layer.trainable = False"
      ],
      "execution_count": 0,
      "outputs": []
    },
    {
      "cell_type": "code",
      "metadata": {
        "id": "kzedxyKnWPsb",
        "colab_type": "code",
        "colab": {}
      },
      "source": [
        "x = resnet.output\n",
        "x = GlobalAveragePooling2D()(x) # This layer is a really fancy flatten\n",
        "x = Dense(1024, activation='relu')(x)\n",
        "predictions = Dense(1, activation='sigmoid')(x)\n",
        "model = Model(resnet.input, predictions)"
      ],
      "execution_count": 0,
      "outputs": []
    },
    {
      "cell_type": "code",
      "metadata": {
        "id": "ilfdy--3Wf_a",
        "colab_type": "code",
        "colab": {}
      },
      "source": [
        "model.compile(optimizer=\"nadam\", loss=\"binary_crossentropy\", metrics=[\"accuracy\"])"
      ],
      "execution_count": 0,
      "outputs": []
    },
    {
      "cell_type": "markdown",
      "metadata": {
        "id": "LBJedJATScRX",
        "colab_type": "text"
      },
      "source": [
        "## Fit Model"
      ]
    },
    {
      "cell_type": "code",
      "metadata": {
        "id": "_fVWomEDScRZ",
        "colab_type": "code",
        "colab": {
          "base_uri": "https://localhost:8080/",
          "height": 1000
        },
        "outputId": "49aa495e-fe34-4aa7-e372-f4748f8494ca"
      },
      "source": [
        "history = model.fit(\n",
        "    train_data_gen,\n",
        "    steps_per_epoch=total_train // batch_size,\n",
        "    epochs=epochs,\n",
        "    validation_data=val_data_gen,\n",
        "    validation_steps=total_val // batch_size\n",
        ")"
      ],
      "execution_count": 49,
      "outputs": [
        {
          "output_type": "stream",
          "text": [
            "Epoch 1/50\n",
            "32/32 [==============================] - 4s 133ms/step - loss: 0.8111 - accuracy: 0.5234 - val_loss: 0.6466 - val_accuracy: 0.6477\n",
            "Epoch 2/50\n",
            "32/32 [==============================] - 4s 119ms/step - loss: 0.6855 - accuracy: 0.6248 - val_loss: 0.5403 - val_accuracy: 0.7853\n",
            "Epoch 3/50\n",
            "32/32 [==============================] - 3s 105ms/step - loss: 0.5822 - accuracy: 0.6747 - val_loss: 0.6276 - val_accuracy: 0.6626\n",
            "Epoch 4/50\n",
            "32/32 [==============================] - 3s 105ms/step - loss: 0.5469 - accuracy: 0.7166 - val_loss: 0.9257 - val_accuracy: 0.3558\n",
            "Epoch 5/50\n",
            "32/32 [==============================] - 3s 104ms/step - loss: 0.5734 - accuracy: 0.7226 - val_loss: 0.4475 - val_accuracy: 0.8344\n",
            "Epoch 6/50\n",
            "32/32 [==============================] - 3s 104ms/step - loss: 0.5196 - accuracy: 0.7505 - val_loss: 0.4573 - val_accuracy: 0.8466\n",
            "Epoch 7/50\n",
            "32/32 [==============================] - 3s 105ms/step - loss: 0.4135 - accuracy: 0.8303 - val_loss: 0.7126 - val_accuracy: 0.5890\n",
            "Epoch 8/50\n",
            "32/32 [==============================] - 3s 104ms/step - loss: 0.4468 - accuracy: 0.8044 - val_loss: 0.3827 - val_accuracy: 0.7853\n",
            "Epoch 9/50\n",
            "32/32 [==============================] - 3s 104ms/step - loss: 0.4323 - accuracy: 0.8164 - val_loss: 0.4113 - val_accuracy: 0.8589\n",
            "Epoch 10/50\n",
            "32/32 [==============================] - 3s 104ms/step - loss: 0.4346 - accuracy: 0.8024 - val_loss: 0.3520 - val_accuracy: 0.8773\n",
            "Epoch 11/50\n",
            "32/32 [==============================] - 3s 104ms/step - loss: 0.3398 - accuracy: 0.8723 - val_loss: 0.3917 - val_accuracy: 0.8344\n",
            "Epoch 12/50\n",
            "32/32 [==============================] - 3s 105ms/step - loss: 0.3452 - accuracy: 0.8523 - val_loss: 0.4499 - val_accuracy: 0.8282\n",
            "Epoch 13/50\n",
            "32/32 [==============================] - 3s 106ms/step - loss: 0.3136 - accuracy: 0.8743 - val_loss: 0.2953 - val_accuracy: 0.9091\n",
            "Epoch 14/50\n",
            "32/32 [==============================] - 3s 107ms/step - loss: 0.3751 - accuracy: 0.8323 - val_loss: 0.2996 - val_accuracy: 0.9034\n",
            "Epoch 15/50\n",
            "32/32 [==============================] - 3s 104ms/step - loss: 0.2971 - accuracy: 0.8802 - val_loss: 0.4158 - val_accuracy: 0.8344\n",
            "Epoch 16/50\n",
            "32/32 [==============================] - 3s 105ms/step - loss: 0.2986 - accuracy: 0.9062 - val_loss: 0.4235 - val_accuracy: 0.8037\n",
            "Epoch 17/50\n",
            "32/32 [==============================] - 3s 105ms/step - loss: 0.3355 - accuracy: 0.8403 - val_loss: 0.3123 - val_accuracy: 0.8405\n",
            "Epoch 18/50\n",
            "32/32 [==============================] - 3s 105ms/step - loss: 0.2838 - accuracy: 0.8867 - val_loss: 0.2809 - val_accuracy: 0.9141\n",
            "Epoch 19/50\n",
            "32/32 [==============================] - 3s 105ms/step - loss: 0.2640 - accuracy: 0.9062 - val_loss: 0.3304 - val_accuracy: 0.8834\n",
            "Epoch 20/50\n",
            "32/32 [==============================] - 4s 110ms/step - loss: 0.2807 - accuracy: 0.8862 - val_loss: 0.3092 - val_accuracy: 0.8282\n",
            "Epoch 21/50\n",
            "32/32 [==============================] - 3s 105ms/step - loss: 0.2904 - accuracy: 0.8942 - val_loss: 0.5311 - val_accuracy: 0.7914\n",
            "Epoch 22/50\n",
            "32/32 [==============================] - 3s 104ms/step - loss: 0.2798 - accuracy: 0.8982 - val_loss: 0.2542 - val_accuracy: 0.8957\n",
            "Epoch 23/50\n",
            "32/32 [==============================] - 3s 105ms/step - loss: 0.2787 - accuracy: 0.8822 - val_loss: 0.2903 - val_accuracy: 0.8834\n",
            "Epoch 24/50\n",
            "32/32 [==============================] - 3s 105ms/step - loss: 0.1926 - accuracy: 0.9421 - val_loss: 0.4229 - val_accuracy: 0.8221\n",
            "Epoch 25/50\n",
            "32/32 [==============================] - 3s 104ms/step - loss: 0.2025 - accuracy: 0.9301 - val_loss: 0.7099 - val_accuracy: 0.6871\n",
            "Epoch 26/50\n",
            "32/32 [==============================] - 3s 105ms/step - loss: 0.2305 - accuracy: 0.9082 - val_loss: 0.2219 - val_accuracy: 0.9432\n",
            "Epoch 27/50\n",
            "32/32 [==============================] - 3s 106ms/step - loss: 0.1939 - accuracy: 0.9162 - val_loss: 0.4051 - val_accuracy: 0.8409\n",
            "Epoch 28/50\n",
            "32/32 [==============================] - 3s 103ms/step - loss: 0.3429 - accuracy: 0.8842 - val_loss: 0.1975 - val_accuracy: 0.9448\n",
            "Epoch 29/50\n",
            "32/32 [==============================] - 3s 104ms/step - loss: 0.1700 - accuracy: 0.9501 - val_loss: 0.6057 - val_accuracy: 0.7853\n",
            "Epoch 30/50\n",
            "32/32 [==============================] - 3s 104ms/step - loss: 0.1750 - accuracy: 0.9361 - val_loss: 0.2532 - val_accuracy: 0.8957\n",
            "Epoch 31/50\n",
            "32/32 [==============================] - 3s 104ms/step - loss: 0.2405 - accuracy: 0.9102 - val_loss: 0.2151 - val_accuracy: 0.9264\n",
            "Epoch 32/50\n",
            "32/32 [==============================] - 3s 105ms/step - loss: 0.2064 - accuracy: 0.9182 - val_loss: 0.2366 - val_accuracy: 0.8896\n",
            "Epoch 33/50\n",
            "32/32 [==============================] - 3s 105ms/step - loss: 0.1915 - accuracy: 0.9361 - val_loss: 0.1971 - val_accuracy: 0.9325\n",
            "Epoch 34/50\n",
            "32/32 [==============================] - 3s 105ms/step - loss: 0.1656 - accuracy: 0.9401 - val_loss: 0.2272 - val_accuracy: 0.9448\n",
            "Epoch 35/50\n",
            "32/32 [==============================] - 3s 105ms/step - loss: 0.1990 - accuracy: 0.9297 - val_loss: 0.2167 - val_accuracy: 0.9080\n",
            "Epoch 36/50\n",
            "32/32 [==============================] - 3s 104ms/step - loss: 0.1464 - accuracy: 0.9521 - val_loss: 0.3882 - val_accuracy: 0.8405\n",
            "Epoch 37/50\n",
            "32/32 [==============================] - 3s 104ms/step - loss: 0.1691 - accuracy: 0.9341 - val_loss: 0.2875 - val_accuracy: 0.9632\n",
            "Epoch 38/50\n",
            "32/32 [==============================] - 3s 104ms/step - loss: 0.2142 - accuracy: 0.9301 - val_loss: 0.2461 - val_accuracy: 0.9080\n",
            "Epoch 39/50\n",
            "32/32 [==============================] - 3s 105ms/step - loss: 0.2091 - accuracy: 0.9202 - val_loss: 0.4244 - val_accuracy: 0.8182\n",
            "Epoch 40/50\n",
            "32/32 [==============================] - 3s 105ms/step - loss: 0.1466 - accuracy: 0.9441 - val_loss: 0.3495 - val_accuracy: 0.8580\n",
            "Epoch 41/50\n",
            "32/32 [==============================] - 3s 104ms/step - loss: 0.1104 - accuracy: 0.9601 - val_loss: 1.6417 - val_accuracy: 0.5153\n",
            "Epoch 42/50\n",
            "32/32 [==============================] - 3s 104ms/step - loss: 0.1455 - accuracy: 0.9461 - val_loss: 0.2200 - val_accuracy: 0.9202\n",
            "Epoch 43/50\n",
            "32/32 [==============================] - 3s 106ms/step - loss: 0.1389 - accuracy: 0.9441 - val_loss: 0.2339 - val_accuracy: 0.9202\n",
            "Epoch 44/50\n",
            "32/32 [==============================] - 3s 104ms/step - loss: 0.1525 - accuracy: 0.9421 - val_loss: 0.1975 - val_accuracy: 0.9448\n",
            "Epoch 45/50\n",
            "32/32 [==============================] - 3s 104ms/step - loss: 0.1727 - accuracy: 0.9281 - val_loss: 0.2548 - val_accuracy: 0.9080\n",
            "Epoch 46/50\n",
            "32/32 [==============================] - 3s 104ms/step - loss: 0.1090 - accuracy: 0.9681 - val_loss: 0.1938 - val_accuracy: 0.9509\n",
            "Epoch 47/50\n",
            "32/32 [==============================] - 3s 104ms/step - loss: 0.1610 - accuracy: 0.9381 - val_loss: 0.1988 - val_accuracy: 0.9141\n",
            "Epoch 48/50\n",
            "32/32 [==============================] - 3s 105ms/step - loss: 0.1428 - accuracy: 0.9501 - val_loss: 0.2439 - val_accuracy: 0.9448\n",
            "Epoch 49/50\n",
            "32/32 [==============================] - 3s 103ms/step - loss: 0.1421 - accuracy: 0.9421 - val_loss: 0.1957 - val_accuracy: 0.9202\n",
            "Epoch 50/50\n",
            "32/32 [==============================] - 3s 104ms/step - loss: 0.1263 - accuracy: 0.9501 - val_loss: 0.2224 - val_accuracy: 0.9387\n"
          ],
          "name": "stdout"
        }
      ]
    },
    {
      "cell_type": "markdown",
      "metadata": {
        "id": "kOBaTIaPScRi",
        "colab_type": "text"
      },
      "source": [
        "# Custom CNN Model\n",
        "\n",
        "In this step, write and train your own convolutional neural network using Keras. You can use any architecture that suits you as long as it has at least one convolutional and one pooling layer at the beginning of the network - you can add more if you want. "
      ]
    },
    {
      "cell_type": "code",
      "metadata": {
        "id": "7d3b3aIyZpYd",
        "colab_type": "code",
        "colab": {}
      },
      "source": [
        "from tensorflow.keras.models import Sequential\n",
        "from tensorflow.keras.layers import Conv2D, MaxPooling2D, Flatten, Dense"
      ],
      "execution_count": 0,
      "outputs": []
    },
    {
      "cell_type": "code",
      "metadata": {
        "id": "eZQQwZqsScRl",
        "colab_type": "code",
        "colab": {}
      },
      "source": [
        "# Define the Model\n",
        "model = Sequential()\n",
        "model.add(Conv2D(32,(3,3), activation=\"relu\", input_shape=(224,224,3)))\n",
        "model.add(MaxPooling2D((2,2)))\n",
        "model.add(Flatten())\n",
        "model.add(Dense(20,activation=\"relu\"))\n",
        "model.add(Dense(1,activation=\"sigmoid\"))"
      ],
      "execution_count": 0,
      "outputs": []
    },
    {
      "cell_type": "code",
      "metadata": {
        "id": "ICvouj6Aay9Y",
        "colab_type": "code",
        "colab": {
          "base_uri": "https://localhost:8080/",
          "height": 323
        },
        "outputId": "58f9911c-6517-4cf7-baa0-7e30b34e1cde"
      },
      "source": [
        "model.summary()"
      ],
      "execution_count": 52,
      "outputs": [
        {
          "output_type": "stream",
          "text": [
            "Model: \"sequential\"\n",
            "_________________________________________________________________\n",
            "Layer (type)                 Output Shape              Param #   \n",
            "=================================================================\n",
            "conv2d (Conv2D)              (None, 222, 222, 32)      896       \n",
            "_________________________________________________________________\n",
            "max_pooling2d (MaxPooling2D) (None, 111, 111, 32)      0         \n",
            "_________________________________________________________________\n",
            "flatten (Flatten)            (None, 394272)            0         \n",
            "_________________________________________________________________\n",
            "dense_6 (Dense)              (None, 20)                7885460   \n",
            "_________________________________________________________________\n",
            "dense_7 (Dense)              (None, 1)                 21        \n",
            "=================================================================\n",
            "Total params: 7,886,377\n",
            "Trainable params: 7,886,377\n",
            "Non-trainable params: 0\n",
            "_________________________________________________________________\n"
          ],
          "name": "stdout"
        }
      ]
    },
    {
      "cell_type": "code",
      "metadata": {
        "id": "c2-VANc1ScRt",
        "colab_type": "code",
        "colab": {}
      },
      "source": [
        "# Compile Model\n",
        "model.compile(optimizer=\"nadam\", loss=\"binary_crossentropy\", metrics=[\"accuracy\"])"
      ],
      "execution_count": 0,
      "outputs": []
    },
    {
      "cell_type": "code",
      "metadata": {
        "id": "M2XeEDlQScR6",
        "colab_type": "code",
        "colab": {
          "base_uri": "https://localhost:8080/",
          "height": 1000
        },
        "outputId": "f14c2f5c-b899-4495-a6d7-bda4f8ec88dd"
      },
      "source": [
        "# Fit Model\n",
        "history = model.fit(\n",
        "    train_data_gen,\n",
        "    steps_per_epoch=total_train // batch_size,\n",
        "    epochs=epochs,\n",
        "    validation_data=val_data_gen,\n",
        "    validation_steps=total_val // batch_size\n",
        ")"
      ],
      "execution_count": 54,
      "outputs": [
        {
          "output_type": "stream",
          "text": [
            "Epoch 1/50\n",
            "32/32 [==============================] - 2s 63ms/step - loss: 1.6246 - accuracy: 0.6986 - val_loss: 0.5261 - val_accuracy: 0.6319\n",
            "Epoch 2/50\n",
            "32/32 [==============================] - 2s 60ms/step - loss: 1.1639 - accuracy: 0.8242 - val_loss: 0.3745 - val_accuracy: 0.8466\n",
            "Epoch 3/50\n",
            "32/32 [==============================] - 2s 61ms/step - loss: 0.4583 - accuracy: 0.9122 - val_loss: 0.4349 - val_accuracy: 0.8068\n",
            "Epoch 4/50\n",
            "32/32 [==============================] - 2s 61ms/step - loss: 0.4521 - accuracy: 0.9082 - val_loss: 0.3578 - val_accuracy: 0.8650\n",
            "Epoch 5/50\n",
            "32/32 [==============================] - 2s 62ms/step - loss: 0.4237 - accuracy: 0.9102 - val_loss: 0.3122 - val_accuracy: 0.9141\n",
            "Epoch 6/50\n",
            "32/32 [==============================] - 2s 62ms/step - loss: 0.3892 - accuracy: 0.9541 - val_loss: 0.3434 - val_accuracy: 0.8466\n",
            "Epoch 7/50\n",
            "32/32 [==============================] - 2s 62ms/step - loss: 0.3505 - accuracy: 0.9760 - val_loss: 0.2788 - val_accuracy: 0.9632\n",
            "Epoch 8/50\n",
            "32/32 [==============================] - 2s 61ms/step - loss: 0.3767 - accuracy: 0.9401 - val_loss: 0.3040 - val_accuracy: 0.8896\n",
            "Epoch 9/50\n",
            "32/32 [==============================] - 2s 60ms/step - loss: 0.3197 - accuracy: 0.9800 - val_loss: 0.2991 - val_accuracy: 0.9202\n",
            "Epoch 10/50\n",
            "32/32 [==============================] - 2s 63ms/step - loss: 0.3095 - accuracy: 0.9820 - val_loss: 0.2264 - val_accuracy: 0.9509\n",
            "Epoch 11/50\n",
            "32/32 [==============================] - 2s 63ms/step - loss: 0.3784 - accuracy: 0.9381 - val_loss: 0.2934 - val_accuracy: 0.9325\n",
            "Epoch 12/50\n",
            "32/32 [==============================] - 2s 61ms/step - loss: 0.2274 - accuracy: 0.9760 - val_loss: 0.4922 - val_accuracy: 0.8650\n",
            "Epoch 13/50\n",
            "32/32 [==============================] - 2s 60ms/step - loss: 0.2116 - accuracy: 0.9601 - val_loss: 0.3156 - val_accuracy: 0.9018\n",
            "Epoch 14/50\n",
            "32/32 [==============================] - 2s 62ms/step - loss: 0.0571 - accuracy: 0.9820 - val_loss: 0.2297 - val_accuracy: 0.9264\n",
            "Epoch 15/50\n",
            "32/32 [==============================] - 2s 62ms/step - loss: 0.0270 - accuracy: 0.9940 - val_loss: 0.2451 - val_accuracy: 0.9375\n",
            "Epoch 16/50\n",
            "32/32 [==============================] - 2s 63ms/step - loss: 0.0109 - accuracy: 0.9960 - val_loss: 0.1919 - val_accuracy: 0.9432\n",
            "Epoch 17/50\n",
            "32/32 [==============================] - 2s 62ms/step - loss: 0.0033 - accuracy: 1.0000 - val_loss: 0.2720 - val_accuracy: 0.9387\n",
            "Epoch 18/50\n",
            "32/32 [==============================] - 2s 62ms/step - loss: 0.0023 - accuracy: 1.0000 - val_loss: 0.4027 - val_accuracy: 0.9018\n",
            "Epoch 19/50\n",
            "32/32 [==============================] - 2s 60ms/step - loss: 0.0031 - accuracy: 1.0000 - val_loss: 0.2573 - val_accuracy: 0.9325\n",
            "Epoch 20/50\n",
            "32/32 [==============================] - 2s 62ms/step - loss: 0.0017 - accuracy: 1.0000 - val_loss: 0.1544 - val_accuracy: 0.9571\n",
            "Epoch 21/50\n",
            "32/32 [==============================] - 2s 61ms/step - loss: 5.2895e-04 - accuracy: 1.0000 - val_loss: 0.2289 - val_accuracy: 0.9448\n",
            "Epoch 22/50\n",
            "32/32 [==============================] - 2s 60ms/step - loss: 0.0027 - accuracy: 1.0000 - val_loss: 0.2376 - val_accuracy: 0.9387\n",
            "Epoch 23/50\n",
            "32/32 [==============================] - 2s 60ms/step - loss: 3.2793e-04 - accuracy: 1.0000 - val_loss: 0.3447 - val_accuracy: 0.9141\n",
            "Epoch 24/50\n",
            "32/32 [==============================] - 2s 60ms/step - loss: 2.1112e-04 - accuracy: 1.0000 - val_loss: 0.2764 - val_accuracy: 0.9387\n",
            "Epoch 25/50\n",
            "32/32 [==============================] - 2s 60ms/step - loss: 2.9527e-04 - accuracy: 1.0000 - val_loss: 0.3415 - val_accuracy: 0.9387\n",
            "Epoch 26/50\n",
            "32/32 [==============================] - 2s 60ms/step - loss: 1.9198e-04 - accuracy: 1.0000 - val_loss: 0.2497 - val_accuracy: 0.9387\n",
            "Epoch 27/50\n",
            "32/32 [==============================] - 2s 59ms/step - loss: 1.6432e-04 - accuracy: 1.0000 - val_loss: 0.3021 - val_accuracy: 0.9325\n",
            "Epoch 28/50\n",
            "32/32 [==============================] - 2s 62ms/step - loss: 1.4601e-04 - accuracy: 1.0000 - val_loss: 0.3818 - val_accuracy: 0.9261\n",
            "Epoch 29/50\n",
            "32/32 [==============================] - 2s 61ms/step - loss: 1.5934e-04 - accuracy: 1.0000 - val_loss: 0.3987 - val_accuracy: 0.9205\n",
            "Epoch 30/50\n",
            "32/32 [==============================] - 2s 60ms/step - loss: 1.2519e-04 - accuracy: 1.0000 - val_loss: 0.3829 - val_accuracy: 0.9325\n",
            "Epoch 31/50\n",
            "32/32 [==============================] - 2s 60ms/step - loss: 1.0501e-04 - accuracy: 1.0000 - val_loss: 0.3446 - val_accuracy: 0.9448\n",
            "Epoch 32/50\n",
            "32/32 [==============================] - 2s 61ms/step - loss: 9.8194e-05 - accuracy: 1.0000 - val_loss: 0.4065 - val_accuracy: 0.9141\n",
            "Epoch 33/50\n",
            "32/32 [==============================] - 2s 60ms/step - loss: 1.0157e-04 - accuracy: 1.0000 - val_loss: 0.3207 - val_accuracy: 0.9141\n",
            "Epoch 34/50\n",
            "32/32 [==============================] - 2s 60ms/step - loss: 9.1013e-05 - accuracy: 1.0000 - val_loss: 0.5178 - val_accuracy: 0.9141\n",
            "Epoch 35/50\n",
            "32/32 [==============================] - 2s 60ms/step - loss: 7.8828e-05 - accuracy: 1.0000 - val_loss: 0.2787 - val_accuracy: 0.9448\n",
            "Epoch 36/50\n",
            "32/32 [==============================] - 2s 61ms/step - loss: 8.1915e-05 - accuracy: 1.0000 - val_loss: 0.6061 - val_accuracy: 0.8896\n",
            "Epoch 37/50\n",
            "32/32 [==============================] - 2s 62ms/step - loss: 7.9498e-05 - accuracy: 1.0000 - val_loss: 0.2383 - val_accuracy: 0.9571\n",
            "Epoch 38/50\n",
            "32/32 [==============================] - 2s 61ms/step - loss: 6.9116e-05 - accuracy: 1.0000 - val_loss: 0.4862 - val_accuracy: 0.9141\n",
            "Epoch 39/50\n",
            "32/32 [==============================] - 2s 60ms/step - loss: 6.4588e-05 - accuracy: 1.0000 - val_loss: 0.2948 - val_accuracy: 0.9325\n",
            "Epoch 40/50\n",
            "32/32 [==============================] - 2s 63ms/step - loss: 6.1140e-05 - accuracy: 1.0000 - val_loss: 0.3944 - val_accuracy: 0.9264\n",
            "Epoch 41/50\n",
            "32/32 [==============================] - 2s 63ms/step - loss: 5.7502e-05 - accuracy: 1.0000 - val_loss: 0.4502 - val_accuracy: 0.9261\n",
            "Epoch 42/50\n",
            "32/32 [==============================] - 2s 63ms/step - loss: 3.6672e-05 - accuracy: 1.0000 - val_loss: 0.4756 - val_accuracy: 0.9205\n",
            "Epoch 43/50\n",
            "32/32 [==============================] - 2s 62ms/step - loss: 6.6841e-05 - accuracy: 1.0000 - val_loss: 0.4379 - val_accuracy: 0.9325\n",
            "Epoch 44/50\n",
            "32/32 [==============================] - 2s 62ms/step - loss: 4.6441e-05 - accuracy: 1.0000 - val_loss: 0.4570 - val_accuracy: 0.9141\n",
            "Epoch 45/50\n",
            "32/32 [==============================] - 2s 62ms/step - loss: 5.0217e-05 - accuracy: 1.0000 - val_loss: 0.2503 - val_accuracy: 0.9325\n",
            "Epoch 46/50\n",
            "32/32 [==============================] - 2s 60ms/step - loss: 3.4730e-05 - accuracy: 1.0000 - val_loss: 0.5143 - val_accuracy: 0.9202\n",
            "Epoch 47/50\n",
            "32/32 [==============================] - 2s 62ms/step - loss: 4.7409e-05 - accuracy: 1.0000 - val_loss: 0.2699 - val_accuracy: 0.9448\n",
            "Epoch 48/50\n",
            "32/32 [==============================] - 2s 60ms/step - loss: 4.2246e-05 - accuracy: 1.0000 - val_loss: 0.8302 - val_accuracy: 0.9202\n",
            "Epoch 49/50\n",
            "32/32 [==============================] - 2s 60ms/step - loss: 3.5799e-05 - accuracy: 1.0000 - val_loss: 0.2809 - val_accuracy: 0.9264\n",
            "Epoch 50/50\n",
            "32/32 [==============================] - 2s 60ms/step - loss: 3.4847e-05 - accuracy: 1.0000 - val_loss: 0.4274 - val_accuracy: 0.9325\n"
          ],
          "name": "stdout"
        }
      ]
    },
    {
      "cell_type": "markdown",
      "metadata": {
        "id": "NecefRYhScSD",
        "colab_type": "text"
      },
      "source": [
        "# Custom CNN Model with Image Manipulations\n",
        "\n",
        "To simulate an increase in a sample of image, you can apply image manipulation techniques: cropping, rotation, stretching, etc. Luckily Keras has some handy functions for us to apply these techniques to our mountain and forest example. Simply, you should be able to modify our image generator for the problem. Check out these resources to help you get started: \n",
        "\n",
        "1. [Keras `ImageGenerator` Class](https://keras.io/preprocessing/image/#imagedatagenerator-class)\n",
        "2. [Building a powerful image classifier with very little data](https://blog.keras.io/building-powerful-image-classification-models-using-very-little-data.html)\n",
        " "
      ]
    },
    {
      "cell_type": "code",
      "metadata": {
        "id": "cHTjwG3-ScSE",
        "colab_type": "code",
        "colab": {}
      },
      "source": [
        "from keras.preprocessing.image import ImageDataGenerator\n",
        "\n",
        "train_datagen = ImageDataGenerator(\n",
        "    featurewise_center=True,\n",
        "    featurewise_std_normalization=True,\n",
        "    rotation_range=20,\n",
        "    width_shift_range=.2,\n",
        "    height_shift_range=.2,\n",
        "    shear_range=.25,\n",
        "    zoom_range=.25,\n",
        "    rescale=1./255,\n",
        "    horizontal_flip=True)\n",
        "\n",
        "val_datagen = ImageDataGenerator(\n",
        "    featurewise_center=True,\n",
        "    featurewise_std_normalization=True,\n",
        "    rotation_range=20,\n",
        "    width_shift_range=.2,\n",
        "    height_shift_range=.2,\n",
        "    shear_range=.25,\n",
        "    zoom_range=.25,\n",
        "    rescale=1./255,\n",
        "    horizontal_flip=True)"
      ],
      "execution_count": 0,
      "outputs": []
    },
    {
      "cell_type": "code",
      "metadata": {
        "id": "iN-XMumegnJP",
        "colab_type": "code",
        "colab": {
          "base_uri": "https://localhost:8080/",
          "height": 51
        },
        "outputId": "25a6cfc4-df8f-45be-eb89-63825bfa132f"
      },
      "source": [
        "train_generator = train_datagen.flow_from_directory(batch_size=batch_size,\n",
        "                                                           directory=train_dir,\n",
        "                                                           shuffle=True,\n",
        "                                                           target_size=(IMG_HEIGHT, IMG_WIDTH),\n",
        "                                                           class_mode='binary')\n",
        "\n",
        "val_generator = val_datagen.flow_from_directory(batch_size=batch_size,\n",
        "                                                           directory=validation_dir,\n",
        "                                                           target_size=(IMG_HEIGHT, IMG_WIDTH),\n",
        "                                                           class_mode='binary')"
      ],
      "execution_count": 60,
      "outputs": [
        {
          "output_type": "stream",
          "text": [
            "Found 533 images belonging to 2 classes.\n",
            "Found 195 images belonging to 2 classes.\n"
          ],
          "name": "stdout"
        }
      ]
    },
    {
      "cell_type": "code",
      "metadata": {
        "id": "bwLkB7c9g4CV",
        "colab_type": "code",
        "colab": {
          "base_uri": "https://localhost:8080/",
          "height": 1000
        },
        "outputId": "627b2f8d-1d46-4f00-dbb3-72cd57892cb2"
      },
      "source": [
        "model.fit_generator(\n",
        "    train_generator,\n",
        "    steps_per_epoch=total_train // batch_size,\n",
        "    epochs=epochs,\n",
        "    validation_data=val_generator,\n",
        "    validation_steps=total_val // batch_size\n",
        ")"
      ],
      "execution_count": 65,
      "outputs": [
        {
          "output_type": "stream",
          "text": [
            "/usr/local/lib/python3.6/dist-packages/keras_preprocessing/image/image_data_generator.py:716: UserWarning: This ImageDataGenerator specifies `featurewise_center`, but it hasn't been fit on any training data. Fit it first by calling `.fit(numpy_data)`.\n",
            "  warnings.warn('This ImageDataGenerator specifies '\n",
            "/usr/local/lib/python3.6/dist-packages/keras_preprocessing/image/image_data_generator.py:724: UserWarning: This ImageDataGenerator specifies `featurewise_std_normalization`, but it hasn't been fit on any training data. Fit it first by calling `.fit(numpy_data)`.\n",
            "  warnings.warn('This ImageDataGenerator specifies '\n"
          ],
          "name": "stderr"
        },
        {
          "output_type": "stream",
          "text": [
            "Epoch 1/50\n",
            "32/32 [==============================] - 8s 251ms/step - loss: 0.6958 - accuracy: 0.4810 - val_loss: 0.7017 - val_accuracy: 0.3620\n",
            "Epoch 2/50\n",
            "32/32 [==============================] - 8s 248ms/step - loss: 0.6926 - accuracy: 0.5190 - val_loss: 0.7052 - val_accuracy: 0.3067\n",
            "Epoch 3/50\n",
            "32/32 [==============================] - 8s 248ms/step - loss: 0.6907 - accuracy: 0.5389 - val_loss: 0.7021 - val_accuracy: 0.3681\n",
            "Epoch 4/50\n",
            "32/32 [==============================] - 8s 252ms/step - loss: 0.6939 - accuracy: 0.4930 - val_loss: 0.7027 - val_accuracy: 0.3497\n",
            "Epoch 5/50\n",
            "32/32 [==============================] - 8s 247ms/step - loss: 0.6924 - accuracy: 0.5269 - val_loss: 0.7085 - val_accuracy: 0.3190\n",
            "Epoch 6/50\n",
            "32/32 [==============================] - 8s 247ms/step - loss: 0.6925 - accuracy: 0.5170 - val_loss: 0.7054 - val_accuracy: 0.3374\n",
            "Epoch 7/50\n",
            "32/32 [==============================] - 8s 255ms/step - loss: 0.6932 - accuracy: 0.5150 - val_loss: 0.7040 - val_accuracy: 0.3252\n",
            "Epoch 8/50\n",
            "32/32 [==============================] - 8s 247ms/step - loss: 0.6926 - accuracy: 0.5190 - val_loss: 0.7037 - val_accuracy: 0.3558\n",
            "Epoch 9/50\n",
            "32/32 [==============================] - 8s 247ms/step - loss: 0.6924 - accuracy: 0.5230 - val_loss: 0.7012 - val_accuracy: 0.3681\n",
            "Epoch 10/50\n",
            "32/32 [==============================] - 8s 247ms/step - loss: 0.6943 - accuracy: 0.4930 - val_loss: 0.7015 - val_accuracy: 0.3558\n",
            "Epoch 11/50\n",
            "32/32 [==============================] - 8s 253ms/step - loss: 0.6934 - accuracy: 0.5110 - val_loss: 0.7034 - val_accuracy: 0.3436\n",
            "Epoch 12/50\n",
            "32/32 [==============================] - 8s 249ms/step - loss: 0.6918 - accuracy: 0.5329 - val_loss: 0.7041 - val_accuracy: 0.3352\n",
            "Epoch 13/50\n",
            "32/32 [==============================] - 8s 251ms/step - loss: 0.6929 - accuracy: 0.5110 - val_loss: 0.7039 - val_accuracy: 0.3409\n",
            "Epoch 14/50\n",
            "32/32 [==============================] - 8s 250ms/step - loss: 0.6922 - accuracy: 0.5234 - val_loss: 0.7065 - val_accuracy: 0.3313\n",
            "Epoch 15/50\n",
            "32/32 [==============================] - 8s 259ms/step - loss: 0.6937 - accuracy: 0.5130 - val_loss: 0.7056 - val_accuracy: 0.3006\n",
            "Epoch 16/50\n",
            "32/32 [==============================] - 8s 247ms/step - loss: 0.6926 - accuracy: 0.5110 - val_loss: 0.7037 - val_accuracy: 0.3374\n",
            "Epoch 17/50\n",
            "32/32 [==============================] - 8s 255ms/step - loss: 0.6923 - accuracy: 0.5250 - val_loss: 0.7058 - val_accuracy: 0.3313\n",
            "Epoch 18/50\n",
            "32/32 [==============================] - 8s 251ms/step - loss: 0.6929 - accuracy: 0.5190 - val_loss: 0.7033 - val_accuracy: 0.3497\n",
            "Epoch 19/50\n",
            "32/32 [==============================] - 8s 252ms/step - loss: 0.6930 - accuracy: 0.5090 - val_loss: 0.7013 - val_accuracy: 0.3558\n",
            "Epoch 20/50\n",
            "32/32 [==============================] - 8s 253ms/step - loss: 0.6910 - accuracy: 0.5409 - val_loss: 0.7038 - val_accuracy: 0.3497\n",
            "Epoch 21/50\n",
            "32/32 [==============================] - 8s 252ms/step - loss: 0.6949 - accuracy: 0.4790 - val_loss: 0.7054 - val_accuracy: 0.3313\n",
            "Epoch 22/50\n",
            "32/32 [==============================] - 8s 249ms/step - loss: 0.6920 - accuracy: 0.5210 - val_loss: 0.7034 - val_accuracy: 0.3436\n",
            "Epoch 23/50\n",
            "32/32 [==============================] - 8s 249ms/step - loss: 0.6926 - accuracy: 0.5150 - val_loss: 0.7025 - val_accuracy: 0.3067\n",
            "Epoch 24/50\n",
            "32/32 [==============================] - 8s 246ms/step - loss: 0.6930 - accuracy: 0.5090 - val_loss: 0.7030 - val_accuracy: 0.3497\n",
            "Epoch 25/50\n",
            "32/32 [==============================] - 8s 249ms/step - loss: 0.6920 - accuracy: 0.5289 - val_loss: 0.7046 - val_accuracy: 0.3295\n",
            "Epoch 26/50\n",
            "32/32 [==============================] - 8s 253ms/step - loss: 0.6922 - accuracy: 0.5309 - val_loss: 0.7037 - val_accuracy: 0.3466\n",
            "Epoch 27/50\n",
            "32/32 [==============================] - 8s 251ms/step - loss: 0.6938 - accuracy: 0.5010 - val_loss: 0.7049 - val_accuracy: 0.3436\n",
            "Epoch 28/50\n",
            "32/32 [==============================] - 8s 249ms/step - loss: 0.6916 - accuracy: 0.5269 - val_loss: 0.7028 - val_accuracy: 0.3558\n",
            "Epoch 29/50\n",
            "32/32 [==============================] - 8s 251ms/step - loss: 0.6948 - accuracy: 0.4890 - val_loss: 0.7034 - val_accuracy: 0.3374\n",
            "Epoch 30/50\n",
            "32/32 [==============================] - 8s 250ms/step - loss: 0.6916 - accuracy: 0.5329 - val_loss: 0.7029 - val_accuracy: 0.3497\n",
            "Epoch 31/50\n",
            "32/32 [==============================] - 8s 256ms/step - loss: 0.6927 - accuracy: 0.5156 - val_loss: 0.7029 - val_accuracy: 0.3497\n",
            "Epoch 32/50\n",
            "32/32 [==============================] - 8s 254ms/step - loss: 0.6923 - accuracy: 0.5250 - val_loss: 0.7024 - val_accuracy: 0.3620\n",
            "Epoch 33/50\n",
            "32/32 [==============================] - 8s 247ms/step - loss: 0.6933 - accuracy: 0.5030 - val_loss: 0.7030 - val_accuracy: 0.3497\n",
            "Epoch 34/50\n",
            "32/32 [==============================] - 8s 251ms/step - loss: 0.6928 - accuracy: 0.5170 - val_loss: 0.7010 - val_accuracy: 0.3558\n",
            "Epoch 35/50\n",
            "32/32 [==============================] - 8s 251ms/step - loss: 0.6916 - accuracy: 0.5269 - val_loss: 0.7061 - val_accuracy: 0.3067\n",
            "Epoch 36/50\n",
            "32/32 [==============================] - 8s 249ms/step - loss: 0.6928 - accuracy: 0.5170 - val_loss: 0.7068 - val_accuracy: 0.3252\n",
            "Epoch 37/50\n",
            "32/32 [==============================] - 8s 252ms/step - loss: 0.6940 - accuracy: 0.4930 - val_loss: 0.7010 - val_accuracy: 0.3558\n",
            "Epoch 38/50\n",
            "32/32 [==============================] - 8s 249ms/step - loss: 0.6926 - accuracy: 0.5110 - val_loss: 0.7040 - val_accuracy: 0.3295\n",
            "Epoch 39/50\n",
            "32/32 [==============================] - 8s 256ms/step - loss: 0.6906 - accuracy: 0.5469 - val_loss: 0.7037 - val_accuracy: 0.3523\n",
            "Epoch 40/50\n",
            "32/32 [==============================] - 8s 248ms/step - loss: 0.6922 - accuracy: 0.5210 - val_loss: 0.7040 - val_accuracy: 0.3497\n",
            "Epoch 41/50\n",
            "32/32 [==============================] - 8s 251ms/step - loss: 0.6946 - accuracy: 0.4850 - val_loss: 0.7023 - val_accuracy: 0.3681\n",
            "Epoch 42/50\n",
            "32/32 [==============================] - 8s 250ms/step - loss: 0.6922 - accuracy: 0.5170 - val_loss: 0.7070 - val_accuracy: 0.3190\n",
            "Epoch 43/50\n",
            "32/32 [==============================] - 8s 248ms/step - loss: 0.6936 - accuracy: 0.4950 - val_loss: 0.7015 - val_accuracy: 0.3804\n",
            "Epoch 44/50\n",
            "32/32 [==============================] - 8s 249ms/step - loss: 0.6914 - accuracy: 0.5349 - val_loss: 0.7061 - val_accuracy: 0.3129\n",
            "Epoch 45/50\n",
            "32/32 [==============================] - 8s 246ms/step - loss: 0.6913 - accuracy: 0.5309 - val_loss: 0.7023 - val_accuracy: 0.3804\n",
            "Epoch 46/50\n",
            "32/32 [==============================] - 8s 248ms/step - loss: 0.6919 - accuracy: 0.5250 - val_loss: 0.7080 - val_accuracy: 0.3252\n",
            "Epoch 47/50\n",
            "32/32 [==============================] - 8s 251ms/step - loss: 0.6940 - accuracy: 0.5030 - val_loss: 0.7026 - val_accuracy: 0.3742\n",
            "Epoch 48/50\n",
            "32/32 [==============================] - 8s 247ms/step - loss: 0.6924 - accuracy: 0.5195 - val_loss: 0.7072 - val_accuracy: 0.3006\n",
            "Epoch 49/50\n",
            "32/32 [==============================] - 8s 256ms/step - loss: 0.6932 - accuracy: 0.5110 - val_loss: 0.7015 - val_accuracy: 0.3865\n",
            "Epoch 50/50\n",
            "32/32 [==============================] - 8s 258ms/step - loss: 0.6928 - accuracy: 0.5170 - val_loss: 0.7043 - val_accuracy: 0.3129\n"
          ],
          "name": "stdout"
        },
        {
          "output_type": "execute_result",
          "data": {
            "text/plain": [
              "<tensorflow.python.keras.callbacks.History at 0x7fd1defa4400>"
            ]
          },
          "metadata": {
            "tags": []
          },
          "execution_count": 65
        }
      ]
    },
    {
      "cell_type": "markdown",
      "metadata": {
        "colab_type": "text",
        "id": "uT3UV3gap9H6"
      },
      "source": [
        "# Resources and Stretch Goals\n",
        "\n",
        "Stretch goals\n",
        "- Enhance your code to use classes/functions and accept terms to search and classes to look for in recognizing the downloaded images (e.g. download images of parties, recognize all that contain balloons)\n",
        "- Check out [other available pretrained networks](https://tfhub.dev), try some and compare\n",
        "- Image recognition/classification is somewhat solved, but *relationships* between entities and describing an image is not - check out some of the extended resources (e.g. [Visual Genome](https://visualgenome.org/)) on the topic\n",
        "- Transfer learning - using images you source yourself, [retrain a classifier](https://www.tensorflow.org/hub/tutorials/image_retraining) with a new category\n",
        "- (Not CNN related) Use [piexif](https://pypi.org/project/piexif/) to check out the metadata of images passed in to your system - see if they're from a national park! (Note - many images lack GPS metadata, so this won't work in most cases, but still cool)\n",
        "\n",
        "Resources\n",
        "- [Deep Residual Learning for Image Recognition](https://arxiv.org/abs/1512.03385) - influential paper (introduced ResNet)\n",
        "- [YOLO: Real-Time Object Detection](https://pjreddie.com/darknet/yolo/) - an influential convolution based object detection system, focused on inference speed (for applications to e.g. self driving vehicles)\n",
        "- [R-CNN, Fast R-CNN, Faster R-CNN, YOLO](https://towardsdatascience.com/r-cnn-fast-r-cnn-faster-r-cnn-yolo-object-detection-algorithms-36d53571365e) - comparison of object detection systems\n",
        "- [Common Objects in Context](http://cocodataset.org/) - a large-scale object detection, segmentation, and captioning dataset\n",
        "- [Visual Genome](https://visualgenome.org/) - a dataset, a knowledge base, an ongoing effort to connect structured image concepts to language"
      ]
    }
  ]
}